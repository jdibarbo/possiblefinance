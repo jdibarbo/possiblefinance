{
 "cells": [
  {
   "cell_type": "code",
   "execution_count": 3,
   "id": "462025ef",
   "metadata": {},
   "outputs": [],
   "source": [
    "import pandas as pd\n",
    "import numpy as np\n",
    "from pathlib import Path\n",
    "from sklearn.tree import DecisionTreeRegressor\n",
    "\n",
    "pd.options.display.max_columns = None\n",
    "pd.options.display.max_rows = None"
   ]
  },
  {
   "cell_type": "markdown",
   "id": "f5d90a0c",
   "metadata": {},
   "source": [
    "# Objective"
   ]
  },
  {
   "cell_type": "markdown",
   "id": "1598f56b",
   "metadata": {},
   "source": [
    "To identify the clients which will not perfom well, I will: \n",
    "\n",
    "- Train an inital estimator to use Recursive Feature elimination and select only the most important features, and compare to a Linear model with L1 penalty, to emulate a Lasso regression.   \n",
    "- Using the features obtained from the previous step, train a classification model, and with it identify the most significant features in it: \n",
    "    - Train a Tree model, and see what are some of the rules that split the data. \n",
    "    - Train a more robust classification model (XGBoost, Random Forest), to then see the SHAP values for the features to understand how they affect the prediction, in this case focusing on the poorly performing applicants. "
   ]
  },
  {
   "cell_type": "markdown",
   "id": "f557a303",
   "metadata": {},
   "source": [
    "# Load data"
   ]
  },
  {
   "cell_type": "code",
   "execution_count": 4,
   "id": "d85c5379",
   "metadata": {},
   "outputs": [],
   "source": [
    "path = str(Path().resolve()) \n",
    "applications_approved = pd.read_csv(path + '/approved_application_data.csv')"
   ]
  },
  {
   "cell_type": "markdown",
   "id": "d51ccbdc",
   "metadata": {},
   "source": [
    "# Train test split"
   ]
  },
  {
   "cell_type": "code",
   "execution_count": 6,
   "id": "0f3ac9ae",
   "metadata": {},
   "outputs": [
    {
     "data": {
      "text/plain": [
       "4145"
      ]
     },
     "execution_count": 6,
     "metadata": {},
     "output_type": "execute_result"
    }
   ],
   "source": [
    "# I will exclude the 'loan_amount' feature from modelling, as it's likely the amount finally granted, which would leak data\n",
    "# into the model\n",
    "\n",
    "len(applications_approved)"
   ]
  },
  {
   "cell_type": "markdown",
   "id": "b50dbb8f",
   "metadata": {},
   "source": [
    "# Logistic Regression"
   ]
  },
  {
   "cell_type": "markdown",
   "id": "e1e491a1",
   "metadata": {},
   "source": [
    "To emulate a Lasso Regression in classification, I will use an L1 penalty and the *C* coefficient "
   ]
  },
  {
   "cell_type": "markdown",
   "id": "adab9387",
   "metadata": {},
   "source": [
    "# Classification Model"
   ]
  },
  {
   "cell_type": "markdown",
   "id": "8113bd31",
   "metadata": {},
   "source": [
    "## Decision Tree"
   ]
  },
  {
   "cell_type": "markdown",
   "id": "5cc17f3f",
   "metadata": {},
   "source": [
    "## Random Forest"
   ]
  },
  {
   "cell_type": "markdown",
   "id": "68fefaf4",
   "metadata": {},
   "source": [
    "## XGBoost"
   ]
  },
  {
   "cell_type": "code",
   "execution_count": null,
   "id": "8fd11d74",
   "metadata": {},
   "outputs": [],
   "source": []
  }
 ],
 "metadata": {
  "kernelspec": {
   "display_name": "Python 3",
   "language": "python",
   "name": "python3"
  },
  "language_info": {
   "codemirror_mode": {
    "name": "ipython",
    "version": 3
   },
   "file_extension": ".py",
   "mimetype": "text/x-python",
   "name": "python",
   "nbconvert_exporter": "python",
   "pygments_lexer": "ipython3",
   "version": "3.8.12"
  }
 },
 "nbformat": 4,
 "nbformat_minor": 5
}
