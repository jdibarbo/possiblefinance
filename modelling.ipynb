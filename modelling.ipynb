{
 "cells": [
  {
   "cell_type": "code",
   "execution_count": 11,
   "id": "9235e775",
   "metadata": {},
   "outputs": [],
   "source": [
    "import pandas as pd\n",
    "import numpy as np\n",
    "from pathlib import Path\n",
    "from sklearn.tree import DecisionTreeRegressor\n",
    "\n",
    "pd.options.display.max_columns = None\n",
    "pd.options.display.max_rows = None\n",
    "\n",
    "seed = 1984"
   ]
  },
  {
   "cell_type": "markdown",
   "id": "9ce0aaa0",
   "metadata": {},
   "source": [
    "# Objective"
   ]
  },
  {
   "cell_type": "markdown",
   "id": "94859d95",
   "metadata": {},
   "source": [
    "To identify the clients which will not perfom well, I will: \n",
    "\n",
    "- **Feature selection**<br> \n",
    "    - Train an inital estimator to use Recursive Feature elimination and select only the most important features, and compare to a Linear model with L1 penalty, to emulate a Lasso regression.   \n",
    "\n",
    "\n",
    "- **Model training**<br>\n",
    "    Using the features obtained from the previous step, train a classification model, and with it identify the most significant features in it: \n",
    "    - Train a Tree model, and see what are some of the rules that split the data. \n",
    "    - Train a more robust classification model (XGBoost, Random Forest), to then see the SHAP values for the features to understand how they affect the prediction, in this case focusing on the poorly performing applicants. "
   ]
  },
  {
   "cell_type": "markdown",
   "id": "9ad33ad0",
   "metadata": {},
   "source": [
    "# Load data"
   ]
  },
  {
   "cell_type": "code",
   "execution_count": 4,
   "id": "41d6faca",
   "metadata": {},
   "outputs": [],
   "source": [
    "path = str(Path().resolve()) \n",
    "applications_approved = pd.read_csv(path + '/approved_application_data.csv')"
   ]
  },
  {
   "cell_type": "markdown",
   "id": "8a32164a",
   "metadata": {},
   "source": [
    "# Train test split"
   ]
  },
  {
   "cell_type": "code",
   "execution_count": 6,
   "id": "eb0a55d9",
   "metadata": {},
   "outputs": [
    {
     "data": {
      "text/plain": [
       "4145"
      ]
     },
     "execution_count": 6,
     "metadata": {},
     "output_type": "execute_result"
    }
   ],
   "source": [
    "# I will exclude the 'loan_amount' feature from modelling, as it's likely the amount finally granted, \n",
    "# which would leak data into the model\n",
    "\n",
    "X_train, X_test, y_train, y_test = train_test_split(X, y, \n",
    "                                                    test_size=0.2, random_state=seed)"
   ]
  },
  {
   "cell_type": "markdown",
   "id": "2547a494",
   "metadata": {},
   "source": [
    "# Feature selection"
   ]
  },
  {
   "cell_type": "markdown",
   "id": "7a14cf34",
   "metadata": {},
   "source": [
    "## Logistic Regression"
   ]
  },
  {
   "cell_type": "code",
   "execution_count": 9,
   "id": "5387c554",
   "metadata": {},
   "outputs": [],
   "source": [
    "from sklearn.svm import LinearSVC\n",
    "from sklearn.feature_selection import SelectFromModel"
   ]
  },
  {
   "cell_type": "markdown",
   "id": "1b0b6c11",
   "metadata": {},
   "source": [
    "In this case, the parameter *C* controls the sparsity: the smaller C the fewer features selected. "
   ]
  },
  {
   "cell_type": "code",
   "execution_count": null,
   "id": "b316ba57",
   "metadata": {},
   "outputs": [],
   "source": [
    "lsvc = LinearSVC(C=0.01, penalty=\"l1\", dual=False).fit(X, y)\n",
    "model = SelectFromModel(lsvc, prefit=True)\n",
    "X_new = model.transform(X)\n",
    "X_new.shape"
   ]
  },
  {
   "cell_type": "markdown",
   "id": "bfce2d67",
   "metadata": {},
   "source": [
    "# Classification Model"
   ]
  },
  {
   "cell_type": "markdown",
   "id": "54284113",
   "metadata": {},
   "source": [
    "## Decision Tree"
   ]
  },
  {
   "cell_type": "markdown",
   "id": "322fac30",
   "metadata": {},
   "source": [
    "## Random Forest"
   ]
  },
  {
   "cell_type": "markdown",
   "id": "af413b0f",
   "metadata": {},
   "source": [
    "## XGBoost"
   ]
  },
  {
   "cell_type": "code",
   "execution_count": null,
   "id": "1a34cfd6",
   "metadata": {},
   "outputs": [],
   "source": []
  }
 ],
 "metadata": {
  "kernelspec": {
   "display_name": "Python 3",
   "language": "python",
   "name": "python3"
  },
  "language_info": {
   "codemirror_mode": {
    "name": "ipython",
    "version": 3
   },
   "file_extension": ".py",
   "mimetype": "text/x-python",
   "name": "python",
   "nbconvert_exporter": "python",
   "pygments_lexer": "ipython3",
   "version": "3.8.12"
  }
 },
 "nbformat": 4,
 "nbformat_minor": 5
}
