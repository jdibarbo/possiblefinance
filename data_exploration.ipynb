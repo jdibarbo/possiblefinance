{
 "cells": [
  {
   "cell_type": "code",
   "execution_count": 1,
   "id": "26924909-e64f-4b1a-848b-5fbbca054c90",
   "metadata": {},
   "outputs": [],
   "source": [
    "import pandas as pd\n"
   ]
  },
  {
   "cell_type": "code",
   "execution_count": null,
   "id": "61133562-8e70-4e38-be6f-0a6efa713824",
   "metadata": {},
   "outputs": [],
   "source": [
    "applications_approved = pd.read_csv()\n",
    "applications_rejected = pd.read_csv()"
   ]
  }
 ],
 "metadata": {
  "kernelspec": {
   "display_name": "possible",
   "language": "python",
   "name": "myenv"
  },
  "language_info": {
   "codemirror_mode": {
    "name": "ipython",
    "version": 3
   },
   "file_extension": ".py",
   "mimetype": "text/x-python",
   "name": "python",
   "nbconvert_exporter": "python",
   "pygments_lexer": "ipython3",
   "version": "3.8.12"
  }
 },
 "nbformat": 4,
 "nbformat_minor": 5
}
