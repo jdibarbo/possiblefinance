{
 "cells": [
  {
   "cell_type": "code",
   "execution_count": 2,
   "id": "3d7efcd2",
   "metadata": {},
   "outputs": [],
   "source": [
    "import pandas as pd\n",
    "import numpy as np\n",
    "from scipy import stats\n",
    "import seaborn as sns\n",
    "import matplotlib.pyplot as plt\n",
    "from pathlib import Path\n",
    "\n",
    "pd.options.display.max_columns = None\n",
    "pd.options.display.max_rows = None"
   ]
  },
  {
   "cell_type": "markdown",
   "id": "68261ddb",
   "metadata": {},
   "source": [
    "# Objective"
   ]
  },
  {
   "cell_type": "markdown",
   "id": "76396ebb",
   "metadata": {},
   "source": [
    "This notebook contains the exploratory analysis done to answer the first question posed in the challenge: \n",
    "\n",
    "*To target a particular risk/default rate how do we set that given the mix of applications*\n",
    "\n",
    "To do this, I will use the data found in the *applications_approved.csv* file and the *applications_rejected.csv*."
   ]
  },
  {
   "cell_type": "markdown",
   "id": "7c4b802a",
   "metadata": {},
   "source": [
    "# Load data"
   ]
  },
  {
   "cell_type": "code",
   "execution_count": 18,
   "id": "66de9547",
   "metadata": {},
   "outputs": [],
   "source": [
    "path = str(Path().resolve().parent) + '\\\\data\\\\'\n",
    "apps_approved = pd.read_csv(path + 'approved_application_data.csv')\n",
    "apps_rejected = pd.read_csv(path + 'rejected_application_data.csv')\n",
    "\n",
    "# I will remove the status feature as the information can't be used in the rejec\n",
    "apps_approved = apps_approved.drop(columns=['Unnamed: 0', 'status']) \n",
    "apps_rejected = apps_rejected.drop(columns=['Unnamed: 0', 'status']) "
   ]
  },
  {
   "cell_type": "code",
   "execution_count": 19,
   "id": "c6e06623",
   "metadata": {},
   "outputs": [
    {
     "name": "stdout",
     "output_type": "stream",
     "text": [
      "True\n"
     ]
    }
   ],
   "source": [
    "# checking I have the same number of columns \n",
    "print(len(apps_approved.columns) == len(apps_rejected.columns))"
   ]
  },
  {
   "cell_type": "code",
   "execution_count": 12,
   "id": "80114f2f",
   "metadata": {},
   "outputs": [],
   "source": [
    "# Creating combined df\n",
    "apps_approved['target'] = 1\n",
    "apps_rejected['target'] = 0\n",
    "\n",
    "df = apps_approved.append(apps_rejected)"
   ]
  },
  {
   "cell_type": "markdown",
   "id": "04aa2e30",
   "metadata": {},
   "source": [
    "# Data exploration"
   ]
  },
  {
   "cell_type": "code",
   "execution_count": 17,
   "id": "5a3b110e",
   "metadata": {},
   "outputs": [
    {
     "data": {
      "text/plain": [
       "1    0.59\n",
       "0    0.41\n",
       "Name: target, dtype: float64"
      ]
     },
     "execution_count": 17,
     "metadata": {},
     "output_type": "execute_result"
    }
   ],
   "source": [
    "round(df.target.value_counts(normalize=True),2)"
   ]
  },
  {
   "cell_type": "markdown",
   "id": "d123c54c",
   "metadata": {},
   "source": [
    "We can see the data is pretty balanced, thus it will not be necessary to apply balancing techniques."
   ]
  },
  {
   "cell_type": "code",
   "execution_count": null,
   "id": "26c0d14a",
   "metadata": {},
   "outputs": [],
   "source": []
  }
 ],
 "metadata": {
  "kernelspec": {
   "display_name": "Python 3",
   "language": "python",
   "name": "python3"
  },
  "language_info": {
   "codemirror_mode": {
    "name": "ipython",
    "version": 3
   },
   "file_extension": ".py",
   "mimetype": "text/x-python",
   "name": "python",
   "nbconvert_exporter": "python",
   "pygments_lexer": "ipython3",
   "version": "3.8.12"
  }
 },
 "nbformat": 4,
 "nbformat_minor": 5
}
